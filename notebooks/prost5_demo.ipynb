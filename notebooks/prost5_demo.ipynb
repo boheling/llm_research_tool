{
 "cells": [
  {
   "cell_type": "markdown",
   "metadata": {},
   "source": [
    "# ProstT5 Model Demo\n",
    "\n",
    "This notebook demonstrates how to use the ProstT5 model for protein sequence and structure analysis in Google Colab.\n",
    "\n",
    "## Setup\n",
    "\n",
    "First, let's clone the repository and install the required packages:"
   ]
  },
  {
   "cell_type": "code",
   "execution_count": null,
   "metadata": {},
   "outputs": [],
   "source": [
    "# Clone the repository\n",
    "!git clone https://github.com/yourusername/llm_research_tool.git\n",
    "%cd llm_research_tool\n",
    "\n",
    "# Install requirements\n",
    "!pip install -r requirements.txt"
   ]
  },
  {
   "cell_type": "markdown",
   "metadata": {},
   "source": [
    "## Import the Model\n",
    "\n",
    "Now let's load API token and import the ProstT5 model:"
   ]
  },
  {
   "cell_type": "code",
   "execution_count": null,
   "metadata": {},
   "outputs": [],
   "source": [
    "import os\n",
    "\n",
    "# Input your Hugging Face API token\n",
    "HUGGINGFACE_API_TOKEN = input(\"Enter your Hugging Face API token: \")\n",
    "os.environ[\"HUGGINGFACE_API_TOKEN\"] = HUGGINGFACE_API_TOKEN"
   ]
  },
  {
   "cell_type": "code",
   "execution_count": null,
   "metadata": {},
   "outputs": [],
   "source": [
    "import sys\n",
    "sys.path.append('.')\n",
    "\n",
    "from models.prost5 import ProstT5\n",
    "\n",
    "# Initialize the model\n",
    "model = ProstT5()\n",
    "print(f\"Model initialized on device: {model.device}\")"
   ]
  },
  {
   "cell_type": "markdown",
   "metadata": {},
   "source": [
    "## Example 1: Sequence to Structure Translation\n",
    "\n",
    "Let's convert some amino acid sequences to their corresponding structures:"
   ]
  },
  {
   "cell_type": "code",
   "execution_count": null,
   "metadata": {},
   "outputs": [],
   "source": [
    "# Example sequences\n",
    "sequences = [\n",
    "    \"MLLAVLYCLAVFALSLPGK\",  # Short sequence\n",
    "    \"MKTVRQERLKSIVRILERSKEPVSGAQLAEELSVSRQVIVQDIAYLRSLGYNIVATPRGYVLAGG\"  # Longer sequence\n",
    "]\n",
    "\n",
    "# Convert to structures\n",
    "structures = model.sequence_to_structure(sequences)\n",
    "\n",
    "# Print results\n",
    "for seq, struct in zip(sequences, structures):\n",
    "    print(f\"\\nSequence: {seq}\")\n",
    "    print(f\"Structure: {struct}\")"
   ]
  },
  {
   "cell_type": "markdown",
   "metadata": {},
   "source": [
    "## Example 2: Structure to Sequence Translation\n",
    "\n",
    "Now let's convert some structure strings back to amino acid sequences:"
   ]
  },
  {
   "cell_type": "code",
   "execution_count": null,
   "metadata": {},
   "outputs": [],
   "source": [
    "# Example structures\n",
    "structures = [\n",
    "    \"h\" * 20,  # Alpha helix\n",
    "    \"e\" * 20,  # Beta sheet\n",
    "    \"c\" * 20   # Coil\n",
    "]\n",
    "\n",
    "# Convert to sequences\n",
    "sequences = model.structure_to_sequence(structures)\n",
    "\n",
    "# Print results\n",
    "for struct, seq in zip(structures, sequences):\n",
    "    print(f\"\\nStructure: {struct}\")\n",
    "    print(f\"Sequence: {seq}\")"
   ]
  },
  {
   "cell_type": "markdown",
   "metadata": {},
   "source": [
    "## Example 3: Roundtrip Translation\n",
    "\n",
    "Let's test the roundtrip translation (sequence → structure → sequence) and calculate accuracy:"
   ]
  },
  {
   "cell_type": "code",
   "execution_count": null,
   "metadata": {},
   "outputs": [],
   "source": [
    "def calculate_sequence_accuracy(original, predicted):\n",
    "    \"\"\"Calculate sequence accuracy metrics.\"\"\"\n",
    "    if len(original) != len(predicted):\n",
    "        return {\n",
    "            'exact_match': 0.0,\n",
    "            'per_residue_accuracy': 0.0,\n",
    "            'length_mismatch': True\n",
    "        }\n",
    "    \n",
    "    exact_match = original == predicted\n",
    "    correct_residues = sum(1 for a, b in zip(original, predicted) if a == b)\n",
    "    per_residue_accuracy = correct_residues / len(original)\n",
    "    \n",
    "    return {\n",
    "        'exact_match': float(exact_match),\n",
    "        'per_residue_accuracy': per_residue_accuracy,\n",
    "        'length_mismatch': False\n",
    "    }\n",
    "\n",
    "# Test sequences\n",
    "test_sequences = [\n",
    "    \"MLLAVLYCLAVFALSLPGK\",\n",
    "    \"MKTVRQERLKSIVRILERSKEPVSGAQLAEELSVSRQVIVQDIAYLRSLGYNIVATPRGYVLAGG\"\n",
    "]\n",
    "\n",
    "# Perform roundtrip translation\n",
    "results = []\n",
    "for seq in test_sequences:\n",
    "    # Sequence to structure\n",
    "    structure = model.sequence_to_structure([seq])[0]\n",
    "    \n",
    "    # Structure back to sequence\n",
    "    back_translated = model.structure_to_sequence([structure])[0]\n",
    "    \n",
    "    # Calculate accuracy\n",
    "    accuracy = calculate_sequence_accuracy(seq, back_translated)\n",
    "    \n",
    "    results.append({\n",
    "        'original_sequence': seq,\n",
    "        'intermediate_structure': structure,\n",
    "        'back_translated_sequence': back_translated,\n",
    "        'accuracy': accuracy\n",
    "    })\n",
    "\n",
    "# Print results\n",
    "for r in results:\n",
    "    print(f\"\\nOriginal sequence: {r['original_sequence']}\")\n",
    "    print(f\"Intermediate structure: {r['intermediate_structure']}\")\n",
    "    print(f\"Back-translated sequence: {r['back_translated_sequence']}\")\n",
    "    print(f\"Exact match: {r['accuracy']['exact_match']}\")\n",
    "    print(f\"Per-residue accuracy: {r['accuracy']['per_residue_accuracy']:.2%}\")"
   ]
  },
  {
   "cell_type": "markdown",
   "metadata": {},
   "source": [
    "## Example 4: Reverse Roundtrip Translation\n",
    "\n",
    "Let's test the reverse roundtrip (structure → sequence → structure) and calculate accuracy:"
   ]
  },
  {
   "cell_type": "code",
   "execution_count": null,
   "metadata": {},
   "outputs": [],
   "source": [
    "# Test structures\n",
    "test_structures = [\n",
    "    \"h\" * 20,  # Alpha helix\n",
    "    \"e\" * 20,  # Beta sheet\n",
    "    \"c\" * 20   # Coil\n",
    "]\n",
    "\n",
    "# Perform reverse roundtrip translation\n",
    "results = []\n",
    "for struct in test_structures:\n",
    "    # Structure to sequence\n",
    "    sequence = model.structure_to_sequence([struct])[0]\n",
    "    \n",
    "    # Sequence back to structure\n",
    "    back_translated = model.sequence_to_structure([sequence])[0]\n",
    "    \n",
    "    # Calculate accuracy\n",
    "    accuracy = calculate_sequence_accuracy(struct, back_translated)\n",
    "    \n",
    "    results.append({\n",
    "        'original_structure': struct,\n",
    "        'intermediate_sequence': sequence,\n",
    "        'back_translated_structure': back_translated,\n",
    "        'accuracy': accuracy\n",
    "    })\n",
    "\n",
    "# Print results\n",
    "for r in results:\n",
    "    print(f\"\\nOriginal structure: {r['original_structure']}\")\n",
    "    print(f\"Intermediate sequence: {r['intermediate_sequence']}\")\n",
    "    print(f\"Back-translated structure: {r['back_translated_structure']}\")\n",
    "    print(f\"Exact match: {r['accuracy']['exact_match']}\")\n",
    "    print(f\"Per-residue accuracy: {r['accuracy']['per_residue_accuracy']:.2%}\")"
   ]
  },
  {
   "cell_type": "markdown",
   "metadata": {},
   "source": [
    "## Example 5: Working with FASTA Files\n",
    "\n",
    "Let's demonstrate how to work with FASTA files:"
   ]
  },
  {
   "cell_type": "code",
   "execution_count": null,
   "metadata": {},
   "outputs": [],
   "source": [
    "from Bio import SeqIO\n",
    "\n",
    "def read_fasta_sequences(fasta_path):\n",
    "    \"\"\"Read sequences from a FASTA file.\"\"\"\n",
    "    sequences = []\n",
    "    for record in SeqIO.parse(fasta_path, \"fasta\"):\n",
    "        sequences.append(str(record.seq))\n",
    "    return sequences\n",
    "\n",
    "# Example FASTA file path\n",
    "fasta_path = \"path/to/your/sequences.fasta\"\n",
    "\n",
    "# Read sequences\n",
    "sequences = read_fasta_sequences(fasta_path)\n",
    "print(f\"Read {len(sequences)} sequences from {fasta_path}\")\n",
    "\n",
    "# Process sequences\n",
    "for i, seq in enumerate(sequences, 1):\n",
    "    print(f\"\\nSequence {i}:\")\n",
    "    print(f\"Length: {len(seq)}\")\n",
    "    print(f\"First 20 residues: {seq[:20]}\")"
   ]
  }
 ],
 "metadata": {
  "kernelspec": {
   "display_name": "venv",
   "language": "python",
   "name": "python3"
  },
  "language_info": {
   "codemirror_mode": {
    "name": "ipython",
    "version": 3
   },
   "file_extension": ".py",
   "mimetype": "text/x-python",
   "name": "python",
   "nbconvert_exporter": "python",
   "pygments_lexer": "ipython3",
   "version": "3.10.12"
  }
 },
 "nbformat": 4,
 "nbformat_minor": 4
}
